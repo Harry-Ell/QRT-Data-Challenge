{
 "cells": [
  {
   "cell_type": "markdown",
   "id": "5d68970e-9356-4294-a611-629cf89a1bf4",
   "metadata": {},
   "source": [
    "# Random Forest Implementation"
   ]
  },
  {
   "cell_type": "code",
   "execution_count": 1,
   "id": "3a6a5076-dcfd-4e5d-98e0-ed7c8add0a3b",
   "metadata": {},
   "outputs": [],
   "source": [
    "import numpy as np\n",
    "import pandas as pd\n",
    "import os \n",
    "from sklearn.model_selection import train_test_split\n",
    "from sklearn.ensemble import RandomForestClassifier\n",
    "from sklearn.metrics import classification_report, accuracy_score, confusion_matrix\n",
    "from sklearn.feature_selection import RFE"
   ]
  },
  {
   "cell_type": "code",
   "execution_count": 2,
   "id": "21f412fb-564b-4f6d-beb4-a89b3982c2a6",
   "metadata": {},
   "outputs": [],
   "source": [
    "data_folder = os.path.join(os.getcwd(), '..', 'Train_Data')\n",
    "uncorrelated_home_stats = pd.read_csv(os.path.join(data_folder, 'train_uncorrelated_home_stats.csv'), index_col=0)\n",
    "uncorrelated_away_stats = pd.read_csv(os.path.join(data_folder, 'train_uncorrelated_away_stats.csv'), index_col=0)\n",
    "train_scores = pd.read_csv(os.path.join(data_folder, 'Y_train.csv'), index_col=0)"
   ]
  },
  {
   "cell_type": "markdown",
   "id": "f41ee950-a89e-4172-8fe1-ec89ce2e4330",
   "metadata": {},
   "source": [
    "Next, I make one big df and have it so all the information about every game is in one row"
   ]
  },
  {
   "cell_type": "code",
   "execution_count": 3,
   "id": "4f4b5bb0-8051-436f-a995-12e67bec937f",
   "metadata": {},
   "outputs": [],
   "source": [
    "# Here i am turning results into a column vector, where 1 is a win, 0 is a draw, and -1 is a loss. This is again so our forest\n",
    "# just classifies into outcomes of 3 classes\n",
    "# It is defined so 1 = win, 0 = draw, -1 = loss.\n",
    "results = []\n",
    "for index, row in train_scores.iterrows():\n",
    "    if row.iloc[0] == 1:\n",
    "        results.append(1)\n",
    "    elif row.iloc[1] == 1:\n",
    "        results.append(0)\n",
    "    elif row.iloc[2] == 1:\n",
    "        results.append(-1)\n",
    "results_df = pd.DataFrame(results, columns=['Score'])"
   ]
  },
  {
   "cell_type": "code",
   "execution_count": 4,
   "id": "8941559c-6bd1-420c-8349-5cb289f0eb0d",
   "metadata": {},
   "outputs": [
    {
     "data": {
      "text/plain": [
       "(12303, 918)"
      ]
     },
     "execution_count": 4,
     "metadata": {},
     "output_type": "execute_result"
    }
   ],
   "source": [
    "uncorrelated_home_stats.columns = 'HOME_' + uncorrelated_home_stats.columns\n",
    "uncorrelated_away_stats.columns = 'AWAY_' + uncorrelated_away_stats.columns\n",
    "\n",
    "# join = inner just slots these 2 arrays side by side\n",
    "files = [uncorrelated_home_stats, uncorrelated_away_stats]\n",
    "train_data =  pd.concat(files,join='inner',axis=1)\n",
    "\n",
    "# this last line is a bit unnecessary, but it just fixes the scores to only include games that we have.\n",
    "train_scores = train_scores.loc[train_data.index] "
   ]
  },
  {
   "cell_type": "markdown",
   "id": "6b4dea14-32a4-4e86-ba6c-6817dfae1f90",
   "metadata": {},
   "source": [
    "# Recursive Feature Elimination on Training Set"
   ]
  },
  {
   "cell_type": "markdown",
   "id": "9e959fc7-007a-4d3f-9c73-78c6ebd59ca4",
   "metadata": {},
   "source": [
    "The next process has 2 steps. We separate our data into training, testing and validation, and perform RFE on the training set. Then, with this new set of features, we optimise hyperparameters on the validation set, and then build the tree on the training set. Finally, this is tested on the test set. "
   ]
  },
  {
   "cell_type": "code",
   "execution_count": 5,
   "id": "c046e521-5406-43c9-a456-14934eef21a2",
   "metadata": {},
   "outputs": [],
   "source": [
    "# We need a training, testing and validation set \n",
    "X_train, X_test, y_train, y_test = train_test_split(train_data, results_df, test_size=0.2, random_state=42)\n",
    "X_train, X_validate, y_train, y_validate = train_test_split(X_train, y_train, test_size=0.2, random_state=42)\n",
    "y_train = np.ravel(y_train)\n",
    "y_validate = np.ravel(y_validate)\n",
    "# This looks odd I assume but what we now have is 3 sets of data. The testing set is .2 of the original, testing set is .64 of \n",
    "# the orignial and validation set is 0.16 of the original. "
   ]
  },
  {
   "cell_type": "code",
   "execution_count": null,
   "id": "f547ea15-9b37-450a-81fd-c951be180a8d",
   "metadata": {},
   "outputs": [],
   "source": [
    "model = RandomForestClassifier(n_estimators=300, random_state=42)\n",
    "\n",
    "# Initialize RFE to select the top 300 features\n",
    "rfe = RFE(estimator=model, n_features_to_select=300, step=1, verbose = 2)\n",
    "rfe.fit(X_train, y_train)"
   ]
  },
  {
   "cell_type": "code",
   "execution_count": 9,
   "id": "00dde9fc-9a8c-4111-a428-2c50d9e106a0",
   "metadata": {},
   "outputs": [
    {
     "name": "stdout",
     "output_type": "stream",
     "text": [
      "Selected 910 features using RFE.\n"
     ]
    }
   ],
   "source": [
    "# Get the selected features\n",
    "selected_features = rfe.support_\n",
    "X_train_reduced_df = pd.DataFrame(X_train.loc[:, selected_features])\n",
    "new_features = list(X_train_reduced_df.columns)\n",
    "new_features_df = pd.DataFrame(new_features)\n",
    "new_features_df.to_csv('Final_features_list.csv')\n",
    "print(f\"Selected {X_train_reduced_df.shape[1]} features using RFE.\")"
   ]
  },
  {
   "cell_type": "code",
   "execution_count": null,
   "id": "faf3260f-7f79-479b-b84e-3a2b9d156067",
   "metadata": {},
   "outputs": [],
   "source": []
  }
 ],
 "metadata": {
  "kernelspec": {
   "display_name": "Python 3 + Jaspy",
   "language": "python",
   "name": "jaspy"
  },
  "language_info": {
   "codemirror_mode": {
    "name": "ipython",
    "version": 3
   },
   "file_extension": ".py",
   "mimetype": "text/x-python",
   "name": "python",
   "nbconvert_exporter": "python",
   "pygments_lexer": "ipython3",
   "version": "3.11.9"
  }
 },
 "nbformat": 4,
 "nbformat_minor": 5
}
